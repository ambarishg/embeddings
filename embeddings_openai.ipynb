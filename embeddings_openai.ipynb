{
 "cells": [
  {
   "cell_type": "code",
   "execution_count": 59,
   "metadata": {},
   "outputs": [],
   "source": [
    "from config import key, location, endpoint"
   ]
  },
  {
   "cell_type": "code",
   "execution_count": 60,
   "metadata": {},
   "outputs": [],
   "source": [
    "import openai\n",
    "openai.api_type = \"azure\"\n",
    "openai.api_key = key\n",
    "openai.api_base = endpoint\n",
    "deployment_id_ada='embedding-ada'\n",
    "openai.api_key = key\n",
    "openai.api_version = \"2022-12-01\""
   ]
  },
  {
   "cell_type": "code",
   "execution_count": 61,
   "metadata": {},
   "outputs": [],
   "source": [
    "from openai.embeddings_utils import get_embedding, cosine_similarity"
   ]
  },
  {
   "cell_type": "code",
   "execution_count": 62,
   "metadata": {},
   "outputs": [],
   "source": [
    "sentence01 = \"queen\"\n",
    "sentence02 = \"king\"\n",
    "sentence03 =\"prince\"\n",
    "sentence04 = \"princess\"\n",
    "sentence05 =\"potato\"\n"
   ]
  },
  {
   "cell_type": "code",
   "execution_count": 63,
   "metadata": {},
   "outputs": [
    {
     "name": "stdout",
     "output_type": "stream",
     "text": [
      "1536\n"
     ]
    }
   ],
   "source": [
    "def get_embeddings_azure_openai(sentence01):\n",
    "    response_sentence01 = openai.Embedding.create(\n",
    "    input=sentence01,\n",
    "    engine=deployment_id_ada\n",
    ")\n",
    "    embeddings_sentence01 = response_sentence01['data'][0]['embedding']\n",
    "    print(len(embeddings_sentence01))\n",
    "    return embeddings_sentence01\n",
    "\n",
    "response_sentence01 = get_embeddings_azure_openai(sentence01)"
   ]
  },
  {
   "cell_type": "code",
   "execution_count": 64,
   "metadata": {},
   "outputs": [
    {
     "name": "stdout",
     "output_type": "stream",
     "text": [
      "1536\n",
      "1536\n",
      "1536\n",
      "1536\n"
     ]
    }
   ],
   "source": [
    "response_sentence02 =get_embeddings_azure_openai(sentence02)\n",
    "response_sentence03 =get_embeddings_azure_openai(sentence03)\n",
    "response_sentence04 =get_embeddings_azure_openai(sentence04)\n",
    "response_sentence05 =get_embeddings_azure_openai(sentence05)"
   ]
  },
  {
   "cell_type": "markdown",
   "metadata": {},
   "source": [
    "The cosine similarity between `king` and `queen`"
   ]
  },
  {
   "cell_type": "code",
   "execution_count": 65,
   "metadata": {},
   "outputs": [
    {
     "data": {
      "text/plain": [
       "0.9154106611324223"
      ]
     },
     "execution_count": 65,
     "metadata": {},
     "output_type": "execute_result"
    }
   ],
   "source": [
    "cosine_similarity(response_sentence02, response_sentence01)"
   ]
  },
  {
   "cell_type": "markdown",
   "metadata": {},
   "source": [
    "The cosine similarity between `king` and `prince`"
   ]
  },
  {
   "cell_type": "code",
   "execution_count": 66,
   "metadata": {},
   "outputs": [
    {
     "data": {
      "text/plain": [
       "0.8562072973554162"
      ]
     },
     "execution_count": 66,
     "metadata": {},
     "output_type": "execute_result"
    }
   ],
   "source": [
    "cosine_similarity(response_sentence02, response_sentence03)"
   ]
  },
  {
   "cell_type": "markdown",
   "metadata": {},
   "source": [
    "The cosine similarity between `king` and `princess`"
   ]
  },
  {
   "cell_type": "code",
   "execution_count": 67,
   "metadata": {},
   "outputs": [
    {
     "data": {
      "text/plain": [
       "0.8333031998992907"
      ]
     },
     "execution_count": 67,
     "metadata": {},
     "output_type": "execute_result"
    }
   ],
   "source": [
    "cosine_similarity(response_sentence02, response_sentence04)"
   ]
  },
  {
   "cell_type": "markdown",
   "metadata": {},
   "source": [
    "The cosine similarity between `king` and `potato`"
   ]
  },
  {
   "cell_type": "code",
   "execution_count": 68,
   "metadata": {},
   "outputs": [
    {
     "data": {
      "text/plain": [
       "0.7716286244220084"
      ]
     },
     "execution_count": 68,
     "metadata": {},
     "output_type": "execute_result"
    }
   ],
   "source": [
    "cosine_similarity(response_sentence02, response_sentence05)"
   ]
  },
  {
   "cell_type": "markdown",
   "metadata": {},
   "source": [
    "The cosine similarity between `queen` and `potato`"
   ]
  },
  {
   "cell_type": "code",
   "execution_count": 69,
   "metadata": {},
   "outputs": [
    {
     "data": {
      "text/plain": [
       "0.7812970539316154"
      ]
     },
     "execution_count": 69,
     "metadata": {},
     "output_type": "execute_result"
    }
   ],
   "source": [
    "cosine_similarity(response_sentence01, response_sentence05)"
   ]
  },
  {
   "cell_type": "code",
   "execution_count": 70,
   "metadata": {},
   "outputs": [],
   "source": [
    "sentence01 = \"I like to eat broccoli and bananas.\"\n",
    "sentence02 = \"I ate a banana and spinach smoothie for breakfast.\"\n",
    "sentence03 = \"Chinchillas and kittens are cute.\"\n",
    "sentence04 = \"My sister adopted a kitten yesterday.\"\n",
    "sentence05 = \"Look at this cute hamster munching on a piece of broccoli.\"\n",
    "sentence06 = \"The polar bear spotted the other bear playing with the broccoli.\"\n",
    "sentence07 = \"Broccoli is healthy. Broccoli is tasty. Please buy some broccoli.\""
   ]
  },
  {
   "cell_type": "code",
   "execution_count": 71,
   "metadata": {},
   "outputs": [
    {
     "name": "stdout",
     "output_type": "stream",
     "text": [
      "1536\n",
      "1536\n",
      "1536\n",
      "1536\n",
      "1536\n",
      "1536\n"
     ]
    }
   ],
   "source": [
    "response_sentence02 =get_embeddings_azure_openai(sentence02)\n",
    "response_sentence03 =get_embeddings_azure_openai(sentence03)\n",
    "response_sentence04 =get_embeddings_azure_openai(sentence04)\n",
    "response_sentence05 =get_embeddings_azure_openai(sentence05)\n",
    "response_sentence06 =get_embeddings_azure_openai(sentence06)\n",
    "response_sentence07 =get_embeddings_azure_openai(sentence07)"
   ]
  },
  {
   "cell_type": "code",
   "execution_count": 72,
   "metadata": {},
   "outputs": [
    {
     "data": {
      "text/plain": [
       "0.7336211876308963"
      ]
     },
     "execution_count": 72,
     "metadata": {},
     "output_type": "execute_result"
    }
   ],
   "source": [
    "sentence01 = \"I like to eat broccoli and bananas.\"\n",
    "sentence02 = \"I ate a banana and spinach smoothie for breakfast.\"\n",
    "cosine_similarity(response_sentence02, response_sentence01)"
   ]
  },
  {
   "cell_type": "code",
   "execution_count": 73,
   "metadata": {},
   "outputs": [
    {
     "data": {
      "text/plain": [
       "0.7394979665117419"
      ]
     },
     "execution_count": 73,
     "metadata": {},
     "output_type": "execute_result"
    }
   ],
   "source": [
    "\n",
    "sentence02 = \"I ate a banana and spinach smoothie for breakfast.\"\n",
    "sentence03 = \"Chinchillas and kittens are cute.\"\n",
    "cosine_similarity(response_sentence02, response_sentence03)"
   ]
  },
  {
   "cell_type": "code",
   "execution_count": 74,
   "metadata": {},
   "outputs": [
    {
     "data": {
      "text/plain": [
       "0.806383459664157"
      ]
     },
     "execution_count": 74,
     "metadata": {},
     "output_type": "execute_result"
    }
   ],
   "source": [
    "\n",
    "sentence03 = \"Chinchillas and kittens are cute.\"\n",
    "sentence04 = \"My sister adopted a kitten yesterday.\"\n",
    "cosine_similarity(response_sentence03, response_sentence04)"
   ]
  },
  {
   "cell_type": "code",
   "execution_count": 75,
   "metadata": {},
   "outputs": [
    {
     "data": {
      "text/plain": [
       "0.8187631396853469"
      ]
     },
     "execution_count": 75,
     "metadata": {},
     "output_type": "execute_result"
    }
   ],
   "source": [
    "\n",
    "sentence03 = \"Chinchillas and kittens are cute.\"\n",
    "sentence05 = \"Look at this cute hamster munching on a piece of broccoli.\"\n",
    "\n",
    "cosine_similarity(response_sentence03, response_sentence05)"
   ]
  },
  {
   "cell_type": "code",
   "execution_count": 76,
   "metadata": {},
   "outputs": [
    {
     "data": {
      "text/plain": [
       "0.7795447492909688"
      ]
     },
     "execution_count": 76,
     "metadata": {},
     "output_type": "execute_result"
    }
   ],
   "source": [
    "\n",
    "sentence03 = \"Chinchillas and kittens are cute.\"\n",
    "sentence06 = \"The polar bear spotted the other bear playing with the broccoli.\"\n",
    "cosine_similarity(response_sentence03, response_sentence06)"
   ]
  }
 ],
 "metadata": {
  "kernelspec": {
   "display_name": "base",
   "language": "python",
   "name": "python3"
  },
  "language_info": {
   "codemirror_mode": {
    "name": "ipython",
    "version": 3
   },
   "file_extension": ".py",
   "mimetype": "text/x-python",
   "name": "python",
   "nbconvert_exporter": "python",
   "pygments_lexer": "ipython3",
   "version": "3.9.13"
  },
  "orig_nbformat": 4
 },
 "nbformat": 4,
 "nbformat_minor": 2
}
