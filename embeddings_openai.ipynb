{
 "cells": [
  {
   "cell_type": "code",
   "execution_count": 1,
   "metadata": {},
   "outputs": [],
   "source": [
    "from config import key, location, endpoint"
   ]
  },
  {
   "cell_type": "code",
   "execution_count": 2,
   "metadata": {},
   "outputs": [],
   "source": [
    "import openai\n",
    "openai.api_type = \"azure\"\n",
    "openai.api_key = key\n",
    "openai.api_base = endpoint\n",
    "deployment_id_ada='embedding-ada'\n",
    "openai.api_key = key\n",
    "openai.api_version = \"2022-12-01\""
   ]
  },
  {
   "cell_type": "code",
   "execution_count": 3,
   "metadata": {},
   "outputs": [],
   "source": [
    "from openai.embeddings_utils import get_embedding, cosine_similarity"
   ]
  },
  {
   "cell_type": "code",
   "execution_count": 4,
   "metadata": {},
   "outputs": [],
   "source": [
    "sentence01 = \"queen\"\n",
    "sentence02 = \"king\"\n",
    "sentence03 =\"prince\"\n",
    "sentence04 = \"princess\"\n",
    "sentence05 =\"potato\"\n"
   ]
  },
  {
   "cell_type": "code",
   "execution_count": 5,
   "metadata": {},
   "outputs": [
    {
     "name": "stdout",
     "output_type": "stream",
     "text": [
      "1536\n"
     ]
    }
   ],
   "source": [
    "def get_embeddings_azure_openai(sentence01):\n",
    "    response_sentence01 = openai.Embedding.create(\n",
    "    input=sentence01,\n",
    "    engine=deployment_id_ada\n",
    ")\n",
    "    embeddings_sentence01 = response_sentence01['data'][0]['embedding']\n",
    "    print(len(embeddings_sentence01))\n",
    "    return embeddings_sentence01\n",
    "\n",
    "response_sentence01 = get_embeddings_azure_openai(sentence01)"
   ]
  },
  {
   "cell_type": "code",
   "execution_count": 6,
   "metadata": {},
   "outputs": [
    {
     "name": "stdout",
     "output_type": "stream",
     "text": [
      "1536\n",
      "1536\n",
      "1536\n",
      "1536\n"
     ]
    }
   ],
   "source": [
    "response_sentence02 =get_embeddings_azure_openai(sentence02)\n",
    "response_sentence03 =get_embeddings_azure_openai(sentence03)\n",
    "response_sentence04 =get_embeddings_azure_openai(sentence04)\n",
    "response_sentence05 =get_embeddings_azure_openai(sentence05)"
   ]
  },
  {
   "cell_type": "markdown",
   "metadata": {},
   "source": [
    "The cosine similarity between `king` and `queen`"
   ]
  },
  {
   "cell_type": "code",
   "execution_count": 7,
   "metadata": {},
   "outputs": [
    {
     "data": {
      "text/plain": [
       "0.9154106611324223"
      ]
     },
     "execution_count": 7,
     "metadata": {},
     "output_type": "execute_result"
    }
   ],
   "source": [
    "cosine_similarity(response_sentence02, response_sentence01)"
   ]
  },
  {
   "cell_type": "markdown",
   "metadata": {},
   "source": [
    "The cosine similarity between `king` and `prince`"
   ]
  },
  {
   "cell_type": "code",
   "execution_count": 8,
   "metadata": {},
   "outputs": [
    {
     "data": {
      "text/plain": [
       "0.8562072973554162"
      ]
     },
     "execution_count": 8,
     "metadata": {},
     "output_type": "execute_result"
    }
   ],
   "source": [
    "cosine_similarity(response_sentence02, response_sentence03)"
   ]
  },
  {
   "cell_type": "markdown",
   "metadata": {},
   "source": [
    "The cosine similarity between `king` and `princess`"
   ]
  },
  {
   "cell_type": "code",
   "execution_count": 9,
   "metadata": {},
   "outputs": [
    {
     "data": {
      "text/plain": [
       "0.8333031998992907"
      ]
     },
     "execution_count": 9,
     "metadata": {},
     "output_type": "execute_result"
    }
   ],
   "source": [
    "cosine_similarity(response_sentence02, response_sentence04)"
   ]
  },
  {
   "cell_type": "markdown",
   "metadata": {},
   "source": [
    "The cosine similarity between `king` and `potato`"
   ]
  },
  {
   "cell_type": "code",
   "execution_count": 10,
   "metadata": {},
   "outputs": [
    {
     "data": {
      "text/plain": [
       "0.7716286244220084"
      ]
     },
     "execution_count": 10,
     "metadata": {},
     "output_type": "execute_result"
    }
   ],
   "source": [
    "cosine_similarity(response_sentence02, response_sentence05)"
   ]
  },
  {
   "cell_type": "markdown",
   "metadata": {},
   "source": [
    "The cosine similarity between `queen` and `potato`"
   ]
  },
  {
   "cell_type": "code",
   "execution_count": 11,
   "metadata": {},
   "outputs": [
    {
     "data": {
      "text/plain": [
       "0.7812970539316154"
      ]
     },
     "execution_count": 11,
     "metadata": {},
     "output_type": "execute_result"
    }
   ],
   "source": [
    "cosine_similarity(response_sentence01, response_sentence05)"
   ]
  },
  {
   "cell_type": "code",
   "execution_count": 12,
   "metadata": {},
   "outputs": [],
   "source": [
    "sentence01 = \"I am a software engineer.\"\n",
    "sentence02 = \"Computer Scientists are awesome.\"\n",
    "sentence03 = \"I am a plumber.\"\n",
    "sentence04 = \"Plumbing is a very useful skill.\"\n",
    "sentence05 = \"India is a great country.\"\n",
    "sentence06 = \"India plays awesome cricket\"\n",
    "sentence07 = \"Broccoli is healthy. Broccoli is tasty. Please buy some broccoli.\""
   ]
  },
  {
   "cell_type": "code",
   "execution_count": 13,
   "metadata": {},
   "outputs": [
    {
     "name": "stdout",
     "output_type": "stream",
     "text": [
      "1536\n",
      "1536\n",
      "1536\n",
      "1536\n",
      "1536\n",
      "1536\n"
     ]
    }
   ],
   "source": [
    "response_sentence02 =get_embeddings_azure_openai(sentence02)\n",
    "response_sentence03 =get_embeddings_azure_openai(sentence03)\n",
    "response_sentence04 =get_embeddings_azure_openai(sentence04)\n",
    "response_sentence05 =get_embeddings_azure_openai(sentence05)\n",
    "response_sentence06 =get_embeddings_azure_openai(sentence06)\n",
    "response_sentence07 =get_embeddings_azure_openai(sentence07)"
   ]
  },
  {
   "cell_type": "code",
   "execution_count": 14,
   "metadata": {},
   "outputs": [
    {
     "data": {
      "text/plain": [
       "0.7660104438290425"
      ]
     },
     "execution_count": 14,
     "metadata": {},
     "output_type": "execute_result"
    }
   ],
   "source": [
    "sentence01 = \"I am a software engineer.\"\n",
    "sentence02 = \"Computer Scientists are awesome.\"\n",
    "cosine_similarity(response_sentence02, response_sentence01)"
   ]
  },
  {
   "cell_type": "code",
   "execution_count": 20,
   "metadata": {},
   "outputs": [
    {
     "data": {
      "text/plain": [
       "0.783310572431813"
      ]
     },
     "execution_count": 20,
     "metadata": {},
     "output_type": "execute_result"
    }
   ],
   "source": [
    "\n",
    "sentence02 = \"software engineer.\"\n",
    "sentence03 = \"plumber.\"\n",
    "\n",
    "cosine_similarity(response_sentence02, response_sentence03)"
   ]
  },
  {
   "cell_type": "code",
   "execution_count": 16,
   "metadata": {},
   "outputs": [
    {
     "data": {
      "text/plain": [
       "0.89417987870581"
      ]
     },
     "execution_count": 16,
     "metadata": {},
     "output_type": "execute_result"
    }
   ],
   "source": [
    "\n",
    "sentence03 = \"I am a plumber.\"\n",
    "sentence04 = \"Plumbing is a very useful skill.\"\n",
    "\n",
    "cosine_similarity(response_sentence03, response_sentence04)"
   ]
  },
  {
   "cell_type": "code",
   "execution_count": 17,
   "metadata": {},
   "outputs": [
    {
     "data": {
      "text/plain": [
       "0.7395796037472117"
      ]
     },
     "execution_count": 17,
     "metadata": {},
     "output_type": "execute_result"
    }
   ],
   "source": [
    "sentence03 = \"I am a plumber.\"\n",
    "sentence05 = \"India is a great country.\"\n",
    "\n",
    "cosine_similarity(response_sentence03, response_sentence05)"
   ]
  },
  {
   "cell_type": "code",
   "execution_count": 18,
   "metadata": {},
   "outputs": [
    {
     "data": {
      "text/plain": [
       "0.90259903122106"
      ]
     },
     "execution_count": 18,
     "metadata": {},
     "output_type": "execute_result"
    }
   ],
   "source": [
    "\n",
    "\n",
    "sentence05 = \"India is a great country.\"\n",
    "sentence06 = \"India plays awesome cricket\"\n",
    "cosine_similarity(response_sentence05, response_sentence06)"
   ]
  }
 ],
 "metadata": {
  "kernelspec": {
   "display_name": "base",
   "language": "python",
   "name": "python3"
  },
  "language_info": {
   "codemirror_mode": {
    "name": "ipython",
    "version": 3
   },
   "file_extension": ".py",
   "mimetype": "text/x-python",
   "name": "python",
   "nbconvert_exporter": "python",
   "pygments_lexer": "ipython3",
   "version": "3.9.13"
  },
  "orig_nbformat": 4
 },
 "nbformat": 4,
 "nbformat_minor": 2
}
